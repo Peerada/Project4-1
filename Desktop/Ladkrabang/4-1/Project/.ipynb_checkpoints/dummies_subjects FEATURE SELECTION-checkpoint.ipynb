{
 "cells": [
  {
   "cell_type": "code",
   "execution_count": 2,
   "metadata": {},
   "outputs": [],
   "source": [
    "import pandas as pd\n",
    "import numpy as np\n",
    "# example of chi squared feature selection for categorical data\n",
    "from pandas import read_csv\n",
    "from sklearn.model_selection import train_test_split\n",
    "from sklearn.preprocessing import LabelEncoder\n",
    "from sklearn.preprocessing import OrdinalEncoder\n",
    "from sklearn.feature_selection import SelectKBest\n",
    "from sklearn.feature_selection import chi2\n",
    "from matplotlib import pyplot"
   ]
  },
  {
   "cell_type": "code",
   "execution_count": 34,
   "metadata": {},
   "outputs": [],
   "source": [
    "data = pd.read_excel('dummies_subjects.xlsx')\n",
    "# retrieve numpy array\n",
    "dataset = data.values\n",
    "# split into input (X) and output (y) variables\n",
    "X = dataset[:, 2:]\n",
    "y = dataset[:,1]\n",
    "# format all fields as string\n",
    "X = X.astype(str)\n",
    "\n"
   ]
  },
  {
   "cell_type": "code",
   "execution_count": 58,
   "metadata": {},
   "outputs": [
    {
     "data": {
      "text/plain": [
       "Index(['Unnamed: 0', 'target',\n",
       "       'ระดับความชอบของกลุ่มวิชาต่อไปนี้ [กลุ่มวิชาคณิตศาสตร์]_ชอบ',\n",
       "       'ระดับความชอบของกลุ่มวิชาต่อไปนี้ [กลุ่มวิชาคณิตศาสตร์]_เฉยๆ',\n",
       "       'ระดับความชอบของกลุ่มวิชาต่อไปนี้ [กลุ่มวิชาคณิตศาสตร์]_ไม่ชอบ',\n",
       "       'ระดับความชอบของกลุ่มวิชาต่อไปนี้ [กลุ่มวิชาสังคม]_ชอบ',\n",
       "       'ระดับความชอบของกลุ่มวิชาต่อไปนี้ [กลุ่มวิชาสังคม]_เฉยๆ',\n",
       "       'ระดับความชอบของกลุ่มวิชาต่อไปนี้ [กลุ่มวิชาสังคม]_ไม่ชอบ',\n",
       "       'ระดับความชอบของกลุ่มวิชาต่อไปนี้ [กลุ่มวิชาวิทยาศาสตร์]_ชอบ',\n",
       "       'ระดับความชอบของกลุ่มวิชาต่อไปนี้ [กลุ่มวิชาวิทยาศาสตร์]_เฉยๆ',\n",
       "       'ระดับความชอบของกลุ่มวิชาต่อไปนี้ [กลุ่มวิชาวิทยาศาสตร์]_ไม่ชอบ',\n",
       "       'ระดับความชอบของกลุ่มวิชาต่อไปนี้ [กลุ่มวิชาศิลปะ]_ชอบ',\n",
       "       'ระดับความชอบของกลุ่มวิชาต่อไปนี้ [กลุ่มวิชาศิลปะ]_เฉยๆ',\n",
       "       'ระดับความชอบของกลุ่มวิชาต่อไปนี้ [กลุ่มวิชาศิลปะ]_ไม่ชอบ',\n",
       "       'ระดับความชอบของกลุ่มวิชาต่อไปนี้ [กลุ่มวิชาเทคโนโลยี]_ชอบ',\n",
       "       'ระดับความชอบของกลุ่มวิชาต่อไปนี้ [กลุ่มวิชาเทคโนโลยี]_เฉยๆ',\n",
       "       'ระดับความชอบของกลุ่มวิชาต่อไปนี้ [กลุ่มวิชาพลศึกษา]_ชอบ',\n",
       "       'ระดับความชอบของกลุ่มวิชาต่อไปนี้ [กลุ่มวิชาพลศึกษา]_เฉยๆ',\n",
       "       'ระดับความชอบของกลุ่มวิชาต่อไปนี้ [กลุ่มวิชาพลศึกษา]_ไม่ชอบ',\n",
       "       'ระดับความชอบของกลุ่มวิชาต่อไปนี้ [กลุ่มวิชาภาษาต่างประเทศ]_ชอบ',\n",
       "       'ระดับความชอบของกลุ่มวิชาต่อไปนี้ [กลุ่มวิชาภาษาต่างประเทศ]_เฉยๆ',\n",
       "       'ระดับความชอบของกลุ่มวิชาต่อไปนี้ [กลุ่มวิชาภาษาต่างประเทศ]_ไม่ชอบ'],\n",
       "      dtype='object')"
      ]
     },
     "execution_count": 58,
     "metadata": {},
     "output_type": "execute_result"
    }
   ],
   "source": [
    "data.columns"
   ]
  },
  {
   "cell_type": "code",
   "execution_count": 61,
   "metadata": {},
   "outputs": [
    {
     "data": {
      "text/html": [
       "<div>\n",
       "<style scoped>\n",
       "    .dataframe tbody tr th:only-of-type {\n",
       "        vertical-align: middle;\n",
       "    }\n",
       "\n",
       "    .dataframe tbody tr th {\n",
       "        vertical-align: top;\n",
       "    }\n",
       "\n",
       "    .dataframe thead th {\n",
       "        text-align: right;\n",
       "    }\n",
       "</style>\n",
       "<table border=\"1\" class=\"dataframe\">\n",
       "  <thead>\n",
       "    <tr style=\"text-align: right;\">\n",
       "      <th>target</th>\n",
       "      <th>เหมาะ</th>\n",
       "      <th>ไม่เหมาะ</th>\n",
       "    </tr>\n",
       "    <tr>\n",
       "      <th>ระดับความชอบของกลุ่มวิชาต่อไปนี้ [กลุ่มวิชาคณิตศาสตร์]_ชอบ</th>\n",
       "      <th></th>\n",
       "      <th></th>\n",
       "    </tr>\n",
       "  </thead>\n",
       "  <tbody>\n",
       "    <tr>\n",
       "      <th>0</th>\n",
       "      <td>9</td>\n",
       "      <td>14</td>\n",
       "    </tr>\n",
       "    <tr>\n",
       "      <th>1</th>\n",
       "      <td>11</td>\n",
       "      <td>4</td>\n",
       "    </tr>\n",
       "  </tbody>\n",
       "</table>\n",
       "</div>"
      ],
      "text/plain": [
       "target                                              เหมาะ  ไม่เหมาะ\n",
       "ระดับความชอบของกลุ่มวิชาต่อไปนี้ [กลุ่มวิชาคณิต...                 \n",
       "0                                                       9        14\n",
       "1                                                      11         4"
      ]
     },
     "execution_count": 61,
     "metadata": {},
     "output_type": "execute_result"
    }
   ],
   "source": [
    "pd.crosstab(data['ระดับความชอบของกลุ่มวิชาต่อไปนี้ [กลุ่มวิชาคณิตศาสตร์]_ชอบ'], data['target'])"
   ]
  },
  {
   "cell_type": "code",
   "execution_count": 63,
   "metadata": {},
   "outputs": [
    {
     "name": "stdout",
     "output_type": "stream",
     "text": [
      "Chi2 Statistic: 2.9986956521739128, p-value: 0.0833315807446789\n"
     ]
    }
   ],
   "source": [
    "# Import the function\n",
    "from scipy.stats import chi2_contingency\n",
    "#Testing the relationship\n",
    "chi_res = chi2_contingency(pd.crosstab(data['ระดับความชอบของกลุ่มวิชาต่อไปนี้ [กลุ่มวิชาคณิตศาสตร์]_ชอบ'], data['target']))\n",
    "print('Chi2 Statistic: {}, p-value: {}'.format(chi_res[0], chi_res[1]))"
   ]
  },
  {
   "cell_type": "code",
   "execution_count": 66,
   "metadata": {},
   "outputs": [],
   "source": [
    "categorical_columns = data.columns"
   ]
  },
  {
   "cell_type": "code",
   "execution_count": 69,
   "metadata": {},
   "outputs": [
    {
     "name": "stdout",
     "output_type": "stream",
     "text": [
      "                                               Column  \\\n",
      "0                                          Unnamed: 0   \n",
      "1                                              target   \n",
      "2   ระดับความชอบของกลุ่มวิชาต่อไปนี้ [กลุ่มวิชาคณิ...   \n",
      "3   ระดับความชอบของกลุ่มวิชาต่อไปนี้ [กลุ่มวิชาคณิ...   \n",
      "4   ระดับความชอบของกลุ่มวิชาต่อไปนี้ [กลุ่มวิชาคณิ...   \n",
      "5   ระดับความชอบของกลุ่มวิชาต่อไปนี้ [กลุ่มวิชาสัง...   \n",
      "6   ระดับความชอบของกลุ่มวิชาต่อไปนี้ [กลุ่มวิชาสัง...   \n",
      "7   ระดับความชอบของกลุ่มวิชาต่อไปนี้ [กลุ่มวิชาสัง...   \n",
      "8   ระดับความชอบของกลุ่มวิชาต่อไปนี้ [กลุ่มวิชาวิท...   \n",
      "9   ระดับความชอบของกลุ่มวิชาต่อไปนี้ [กลุ่มวิชาวิท...   \n",
      "10  ระดับความชอบของกลุ่มวิชาต่อไปนี้ [กลุ่มวิชาวิท...   \n",
      "11  ระดับความชอบของกลุ่มวิชาต่อไปนี้ [กลุ่มวิชาศิล...   \n",
      "12  ระดับความชอบของกลุ่มวิชาต่อไปนี้ [กลุ่มวิชาศิล...   \n",
      "13  ระดับความชอบของกลุ่มวิชาต่อไปนี้ [กลุ่มวิชาศิล...   \n",
      "14  ระดับความชอบของกลุ่มวิชาต่อไปนี้ [กลุ่มวิชาเทค...   \n",
      "15  ระดับความชอบของกลุ่มวิชาต่อไปนี้ [กลุ่มวิชาเทค...   \n",
      "16  ระดับความชอบของกลุ่มวิชาต่อไปนี้ [กลุ่มวิชาพลศ...   \n",
      "17  ระดับความชอบของกลุ่มวิชาต่อไปนี้ [กลุ่มวิชาพลศ...   \n",
      "18  ระดับความชอบของกลุ่มวิชาต่อไปนี้ [กลุ่มวิชาพลศ...   \n",
      "19  ระดับความชอบของกลุ่มวิชาต่อไปนี้ [กลุ่มวิชาภาษ...   \n",
      "20  ระดับความชอบของกลุ่มวิชาต่อไปนี้ [กลุ่มวิชาภาษ...   \n",
      "21  ระดับความชอบของกลุ่มวิชาต่อไปนี้ [กลุ่มวิชาภาษ...   \n",
      "\n",
      "                        Hypothesis  \n",
      "0   Fail to Reject Null Hypothesis  \n",
      "1           Reject Null Hypothesis  \n",
      "2   Fail to Reject Null Hypothesis  \n",
      "3   Fail to Reject Null Hypothesis  \n",
      "4   Fail to Reject Null Hypothesis  \n",
      "5   Fail to Reject Null Hypothesis  \n",
      "6   Fail to Reject Null Hypothesis  \n",
      "7   Fail to Reject Null Hypothesis  \n",
      "8   Fail to Reject Null Hypothesis  \n",
      "9           Reject Null Hypothesis  \n",
      "10  Fail to Reject Null Hypothesis  \n",
      "11          Reject Null Hypothesis  \n",
      "12  Fail to Reject Null Hypothesis  \n",
      "13  Fail to Reject Null Hypothesis  \n",
      "14  Fail to Reject Null Hypothesis  \n",
      "15  Fail to Reject Null Hypothesis  \n",
      "16  Fail to Reject Null Hypothesis  \n",
      "17  Fail to Reject Null Hypothesis  \n",
      "18  Fail to Reject Null Hypothesis  \n",
      "19  Fail to Reject Null Hypothesis  \n",
      "20  Fail to Reject Null Hypothesis  \n",
      "21  Fail to Reject Null Hypothesis  \n"
     ]
    }
   ],
   "source": [
    "chi2_check = []\n",
    "for i in categorical_columns:\n",
    "    if chi2_contingency(pd.crosstab(data['target'], data[i]))[1] < 0.05:\n",
    "        chi2_check.append('Reject Null Hypothesis')\n",
    "    else:\n",
    "        chi2_check.append('Fail to Reject Null Hypothesis')\n",
    "res = pd.DataFrame(data = [categorical_columns, chi2_check] \n",
    "             ).T \n",
    "res.columns = ['Column', 'Hypothesis']\n",
    "print(res)"
   ]
  },
  {
   "cell_type": "code",
   "execution_count": null,
   "metadata": {},
   "outputs": [],
   "source": []
  },
  {
   "cell_type": "code",
   "execution_count": null,
   "metadata": {},
   "outputs": [],
   "source": []
  },
  {
   "cell_type": "code",
   "execution_count": null,
   "metadata": {},
   "outputs": [],
   "source": []
  },
  {
   "cell_type": "code",
   "execution_count": 37,
   "metadata": {},
   "outputs": [],
   "source": [
    "# split into train and test sets\n",
    "X_train, X_test, y_train, y_test = train_test_split(X, y, test_size=0.2, random_state=1)\n",
    "\n"
   ]
  },
  {
   "cell_type": "code",
   "execution_count": 39,
   "metadata": {},
   "outputs": [],
   "source": [
    "le = LabelEncoder()\n",
    "le.fit(y_train)\n",
    "y_train_enc = le.transform(y_train)\n",
    "y_test_enc = le.transform(y_test)\n",
    "\n",
    "X_train_enc, X_test_enc = X_train, X_test"
   ]
  },
  {
   "cell_type": "code",
   "execution_count": 40,
   "metadata": {},
   "outputs": [
    {
     "ename": "NameError",
     "evalue": "name 'select_features' is not defined",
     "output_type": "error",
     "traceback": [
      "\u001b[1;31m---------------------------------------------------------------------------\u001b[0m",
      "\u001b[1;31mNameError\u001b[0m                                 Traceback (most recent call last)",
      "\u001b[1;32m<ipython-input-40-d45e7b9d459d>\u001b[0m in \u001b[0;36m<module>\u001b[1;34m\u001b[0m\n\u001b[1;32m----> 1\u001b[1;33m \u001b[0mX_train_fs\u001b[0m\u001b[1;33m,\u001b[0m \u001b[0mX_test_fs\u001b[0m\u001b[1;33m,\u001b[0m \u001b[0mfs\u001b[0m \u001b[1;33m=\u001b[0m \u001b[0mselect_features\u001b[0m\u001b[1;33m(\u001b[0m\u001b[0mX_train_enc\u001b[0m\u001b[1;33m,\u001b[0m \u001b[0my_train_enc\u001b[0m\u001b[1;33m,\u001b[0m \u001b[0mX_test_enc\u001b[0m\u001b[1;33m)\u001b[0m\u001b[1;33m\u001b[0m\u001b[1;33m\u001b[0m\u001b[0m\n\u001b[0m",
      "\u001b[1;31mNameError\u001b[0m: name 'select_features' is not defined"
     ]
    }
   ],
   "source": []
  },
  {
   "cell_type": "code",
   "execution_count": 52,
   "metadata": {},
   "outputs": [
    {
     "name": "stderr",
     "output_type": "stream",
     "text": [
      "C:\\Users\\User\\anaconda3\\lib\\site-packages\\sklearn\\utils\\validation.py:755: FutureWarning: Beginning in version 0.22, arrays of bytes/strings will be converted to decimal numbers if dtype='numeric'. It is recommended that you convert the array to a float dtype before using it in scikit-learn, for example by using your_array = your_array.astype(np.float64).\n",
      "  estimator=estimator)\n",
      "C:\\Users\\User\\anaconda3\\lib\\site-packages\\sklearn\\feature_selection\\_univariate_selection.py:214: FutureWarning: Beginning in version 0.22, arrays of bytes/strings will be converted to decimal numbers if dtype='numeric'. It is recommended that you convert the array to a float dtype before using it in scikit-learn, for example by using your_array = your_array.astype(np.float64).\n",
      "  X = check_array(X, accept_sparse='csr')\n"
     ]
    },
    {
     "ename": "TypeError",
     "evalue": "'<' not supported between instances of 'numpy.ndarray' and 'int'",
     "output_type": "error",
     "traceback": [
      "\u001b[1;31m---------------------------------------------------------------------------\u001b[0m",
      "\u001b[1;31mTypeError\u001b[0m                                 Traceback (most recent call last)",
      "\u001b[1;32m<ipython-input-52-521f6a50a5f1>\u001b[0m in \u001b[0;36m<module>\u001b[1;34m\u001b[0m\n\u001b[0;32m      1\u001b[0m \u001b[0mfs\u001b[0m \u001b[1;33m=\u001b[0m \u001b[0mSelectKBest\u001b[0m\u001b[1;33m(\u001b[0m\u001b[0mscore_func\u001b[0m\u001b[1;33m=\u001b[0m\u001b[0mchi2\u001b[0m\u001b[1;33m,\u001b[0m \u001b[0mk\u001b[0m\u001b[1;33m=\u001b[0m\u001b[1;34m'all'\u001b[0m\u001b[1;33m)\u001b[0m\u001b[1;33m\u001b[0m\u001b[1;33m\u001b[0m\u001b[0m\n\u001b[1;32m----> 2\u001b[1;33m \u001b[0mfs\u001b[0m\u001b[1;33m.\u001b[0m\u001b[0mfit\u001b[0m\u001b[1;33m(\u001b[0m\u001b[0mX_train\u001b[0m\u001b[1;33m,\u001b[0m \u001b[0my_train_enc\u001b[0m\u001b[1;33m)\u001b[0m\u001b[1;33m\u001b[0m\u001b[1;33m\u001b[0m\u001b[0m\n\u001b[0m\u001b[0;32m      3\u001b[0m \u001b[0mX_train_fs\u001b[0m \u001b[1;33m=\u001b[0m \u001b[0mfs\u001b[0m\u001b[1;33m.\u001b[0m\u001b[0mtransform\u001b[0m\u001b[1;33m(\u001b[0m\u001b[0mX_train\u001b[0m\u001b[1;33m)\u001b[0m\u001b[1;33m\u001b[0m\u001b[1;33m\u001b[0m\u001b[0m\n\u001b[0;32m      4\u001b[0m \u001b[0mX_test_fs\u001b[0m \u001b[1;33m=\u001b[0m \u001b[0mfs\u001b[0m\u001b[1;33m.\u001b[0m\u001b[0mtransform\u001b[0m\u001b[1;33m(\u001b[0m\u001b[0mX_test\u001b[0m\u001b[1;33m)\u001b[0m\u001b[1;33m\u001b[0m\u001b[1;33m\u001b[0m\u001b[0m\n",
      "\u001b[1;32m~\\anaconda3\\lib\\site-packages\\sklearn\\feature_selection\\_univariate_selection.py\u001b[0m in \u001b[0;36mfit\u001b[1;34m(self, X, y)\u001b[0m\n\u001b[0;32m    347\u001b[0m \u001b[1;33m\u001b[0m\u001b[0m\n\u001b[0;32m    348\u001b[0m         \u001b[0mself\u001b[0m\u001b[1;33m.\u001b[0m\u001b[0m_check_params\u001b[0m\u001b[1;33m(\u001b[0m\u001b[0mX\u001b[0m\u001b[1;33m,\u001b[0m \u001b[0my\u001b[0m\u001b[1;33m)\u001b[0m\u001b[1;33m\u001b[0m\u001b[1;33m\u001b[0m\u001b[0m\n\u001b[1;32m--> 349\u001b[1;33m         \u001b[0mscore_func_ret\u001b[0m \u001b[1;33m=\u001b[0m \u001b[0mself\u001b[0m\u001b[1;33m.\u001b[0m\u001b[0mscore_func\u001b[0m\u001b[1;33m(\u001b[0m\u001b[0mX\u001b[0m\u001b[1;33m,\u001b[0m \u001b[0my\u001b[0m\u001b[1;33m)\u001b[0m\u001b[1;33m\u001b[0m\u001b[1;33m\u001b[0m\u001b[0m\n\u001b[0m\u001b[0;32m    350\u001b[0m         \u001b[1;32mif\u001b[0m \u001b[0misinstance\u001b[0m\u001b[1;33m(\u001b[0m\u001b[0mscore_func_ret\u001b[0m\u001b[1;33m,\u001b[0m \u001b[1;33m(\u001b[0m\u001b[0mlist\u001b[0m\u001b[1;33m,\u001b[0m \u001b[0mtuple\u001b[0m\u001b[1;33m)\u001b[0m\u001b[1;33m)\u001b[0m\u001b[1;33m:\u001b[0m\u001b[1;33m\u001b[0m\u001b[1;33m\u001b[0m\u001b[0m\n\u001b[0;32m    351\u001b[0m             \u001b[0mself\u001b[0m\u001b[1;33m.\u001b[0m\u001b[0mscores_\u001b[0m\u001b[1;33m,\u001b[0m \u001b[0mself\u001b[0m\u001b[1;33m.\u001b[0m\u001b[0mpvalues_\u001b[0m \u001b[1;33m=\u001b[0m \u001b[0mscore_func_ret\u001b[0m\u001b[1;33m\u001b[0m\u001b[1;33m\u001b[0m\u001b[0m\n",
      "\u001b[1;32m~\\anaconda3\\lib\\site-packages\\sklearn\\feature_selection\\_univariate_selection.py\u001b[0m in \u001b[0;36mchi2\u001b[1;34m(X, y)\u001b[0m\n\u001b[0;32m    213\u001b[0m     \u001b[1;31m# numerical stability.\u001b[0m\u001b[1;33m\u001b[0m\u001b[1;33m\u001b[0m\u001b[1;33m\u001b[0m\u001b[0m\n\u001b[0;32m    214\u001b[0m     \u001b[0mX\u001b[0m \u001b[1;33m=\u001b[0m \u001b[0mcheck_array\u001b[0m\u001b[1;33m(\u001b[0m\u001b[0mX\u001b[0m\u001b[1;33m,\u001b[0m \u001b[0maccept_sparse\u001b[0m\u001b[1;33m=\u001b[0m\u001b[1;34m'csr'\u001b[0m\u001b[1;33m)\u001b[0m\u001b[1;33m\u001b[0m\u001b[1;33m\u001b[0m\u001b[0m\n\u001b[1;32m--> 215\u001b[1;33m     \u001b[1;32mif\u001b[0m \u001b[0mnp\u001b[0m\u001b[1;33m.\u001b[0m\u001b[0many\u001b[0m\u001b[1;33m(\u001b[0m\u001b[1;33m(\u001b[0m\u001b[0mX\u001b[0m\u001b[1;33m.\u001b[0m\u001b[0mdata\u001b[0m \u001b[1;32mif\u001b[0m \u001b[0missparse\u001b[0m\u001b[1;33m(\u001b[0m\u001b[0mX\u001b[0m\u001b[1;33m)\u001b[0m \u001b[1;32melse\u001b[0m \u001b[0mX\u001b[0m\u001b[1;33m)\u001b[0m \u001b[1;33m<\u001b[0m \u001b[1;36m0\u001b[0m\u001b[1;33m)\u001b[0m\u001b[1;33m:\u001b[0m\u001b[1;33m\u001b[0m\u001b[1;33m\u001b[0m\u001b[0m\n\u001b[0m\u001b[0;32m    216\u001b[0m         \u001b[1;32mraise\u001b[0m \u001b[0mValueError\u001b[0m\u001b[1;33m(\u001b[0m\u001b[1;34m\"Input X must be non-negative.\"\u001b[0m\u001b[1;33m)\u001b[0m\u001b[1;33m\u001b[0m\u001b[1;33m\u001b[0m\u001b[0m\n\u001b[0;32m    217\u001b[0m \u001b[1;33m\u001b[0m\u001b[0m\n",
      "\u001b[1;31mTypeError\u001b[0m: '<' not supported between instances of 'numpy.ndarray' and 'int'"
     ]
    }
   ],
   "source": [
    "fs = SelectKBest(score_func=chi2, k='all')\n",
    "fs.fit(X_train, y_train_enc)\n",
    "X_train_fs = fs.transform(X_train)\n",
    "X_test_fs = fs.transform(X_test)"
   ]
  },
  {
   "cell_type": "code",
   "execution_count": 43,
   "metadata": {},
   "outputs": [
    {
     "data": {
      "text/plain": [
       "numpy.ndarray"
      ]
     },
     "execution_count": 43,
     "metadata": {},
     "output_type": "execute_result"
    }
   ],
   "source": [
    "type(X_train)"
   ]
  },
  {
   "cell_type": "code",
   "execution_count": 44,
   "metadata": {},
   "outputs": [
    {
     "data": {
      "text/plain": [
       "numpy.ndarray"
      ]
     },
     "execution_count": 44,
     "metadata": {},
     "output_type": "execute_result"
    }
   ],
   "source": [
    "type(X_test)"
   ]
  },
  {
   "cell_type": "code",
   "execution_count": 45,
   "metadata": {},
   "outputs": [
    {
     "data": {
      "text/plain": [
       "numpy.ndarray"
      ]
     },
     "execution_count": 45,
     "metadata": {},
     "output_type": "execute_result"
    }
   ],
   "source": [
    "type(y_train)"
   ]
  },
  {
   "cell_type": "code",
   "execution_count": 46,
   "metadata": {},
   "outputs": [
    {
     "data": {
      "text/plain": [
       "numpy.ndarray"
      ]
     },
     "execution_count": 46,
     "metadata": {},
     "output_type": "execute_result"
    }
   ],
   "source": [
    "type(y_test)"
   ]
  },
  {
   "cell_type": "code",
   "execution_count": 47,
   "metadata": {},
   "outputs": [
    {
     "data": {
      "text/plain": [
       "numpy.ndarray"
      ]
     },
     "execution_count": 47,
     "metadata": {},
     "output_type": "execute_result"
    }
   ],
   "source": [
    "type(X)"
   ]
  },
  {
   "cell_type": "code",
   "execution_count": 48,
   "metadata": {},
   "outputs": [
    {
     "data": {
      "text/plain": [
       "numpy.ndarray"
      ]
     },
     "execution_count": 48,
     "metadata": {},
     "output_type": "execute_result"
    }
   ],
   "source": [
    "type(y)"
   ]
  },
  {
   "cell_type": "code",
   "execution_count": 56,
   "metadata": {},
   "outputs": [
    {
     "data": {
      "text/plain": [
       "array(['1', '0', '0', '0', '0', '1', '0', '1', '0', '0', '0', '1', '0',\n",
       "       '1', '0', '0', '1', '0', '1', '0'], dtype='<U1')"
      ]
     },
     "execution_count": 56,
     "metadata": {},
     "output_type": "execute_result"
    }
   ],
   "source": [
    "X_train[0]"
   ]
  },
  {
   "cell_type": "code",
   "execution_count": 54,
   "metadata": {},
   "outputs": [
    {
     "data": {
      "text/plain": [
       "1"
      ]
     },
     "execution_count": 54,
     "metadata": {},
     "output_type": "execute_result"
    }
   ],
   "source": [
    "y_test_enc[0]"
   ]
  },
  {
   "cell_type": "code",
   "execution_count": null,
   "metadata": {},
   "outputs": [],
   "source": []
  }
 ],
 "metadata": {
  "kernelspec": {
   "display_name": "Python 3",
   "language": "python",
   "name": "python3"
  },
  "language_info": {
   "codemirror_mode": {
    "name": "ipython",
    "version": 3
   },
   "file_extension": ".py",
   "mimetype": "text/x-python",
   "name": "python",
   "nbconvert_exporter": "python",
   "pygments_lexer": "ipython3",
   "version": "3.7.6"
  }
 },
 "nbformat": 4,
 "nbformat_minor": 4
}
